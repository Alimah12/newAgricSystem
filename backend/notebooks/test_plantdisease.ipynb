{
 "cells": [
  {
   "cell_type": "code",
   "execution_count": 3,
   "metadata": {},
   "outputs": [
    {
     "name": "stdout",
     "output_type": "stream",
     "text": [
      "1/1 [==============================] - 0s 426ms/step\n",
      "Predicted Disease: Color Images\n"
     ]
    }
   ],
   "source": [
    "# Import necessary libraries\n",
    "from keras.models import load_model\n",
    "import numpy as np\n",
    "from tensorflow.keras.preprocessing.image import load_img, img_to_array\n",
    "\n",
    "# Load your trained model\n",
    "model = load_model('C:\\\\Users\\\\PC\\\\Desktop\\\\mlearning\\\\backend\\\\notebooks\\\\crop_disease_model.h5')\n",
    "\n",
    "# Define the prediction function\n",
    "def predict_disease(image_path):\n",
    "    # Load the image\n",
    "    img = load_img(image_path, target_size=(150, 150))  # Adjust size as needed\n",
    "    img_array = img_to_array(img)\n",
    "    img_array = np.expand_dims(img_array, axis=0)  # Add batch dimension\n",
    "    img_array /= 255.0  # Normalize\n",
    "\n",
    "    # Make prediction\n",
    "    predictions = model.predict(img_array)\n",
    "\n",
    "    # Get the predicted class\n",
    "    predicted_class = np.argmax(predictions[0])\n",
    "\n",
    "    # Map class indices to class names\n",
    "    class_names = ['Color Images', 'Grayscale Images', 'Individual Images', 'Segmented Images']  # Update this list\n",
    "    return class_names[predicted_class]\n",
    "\n",
    "# Test the prediction\n",
    "if __name__ == \"__main__\":\n",
    "    image_path = r'C:\\Users\\PC\\Desktop\\mlearning\\backend\\dataset\\train\\Individual Images\\Potato\\Potato___Late_blight\\0b2bdc8e-90fd-4bb4-bedb-485502fe8a96___RS_LB 4906.JPG'  # Change this to your test image path\n",
    "    predicted_disease = predict_disease(image_path)\n",
    "    print(f\"Predicted Disease: {predicted_disease}\")\n"
   ]
  },
  {
   "cell_type": "code",
   "execution_count": null,
   "metadata": {},
   "outputs": [],
   "source": []
  }
 ],
 "metadata": {
  "kernelspec": {
   "display_name": "Python 3 (ipykernel)",
   "language": "python",
   "name": "python3"
  },
  "language_info": {
   "codemirror_mode": {
    "name": "ipython",
    "version": 3
   },
   "file_extension": ".py",
   "mimetype": "text/x-python",
   "name": "python",
   "nbconvert_exporter": "python",
   "pygments_lexer": "ipython3",
   "version": "3.10.8"
  }
 },
 "nbformat": 4,
 "nbformat_minor": 4
}
