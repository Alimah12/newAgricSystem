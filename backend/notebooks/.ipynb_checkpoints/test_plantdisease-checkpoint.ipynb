{
 "cells": [
  {
   "cell_type": "code",
   "execution_count": null,
   "metadata": {
    "vscode": {
     "languageId": "plaintext"
    }
   },
   "outputs": [],
   "source": [
    "from keras.models import load_model\n",
    "from tensorflow.keras.preprocessing.image import load_img, img_to_array\n",
    "import numpy as np\n"
   ]
  },
  {
   "cell_type": "markdown",
   "metadata": {},
   "source": [
    "model_path = 'C:\\\\Users\\\\PC\\\\Desktop\\\\mlearning\\\\backend\\\\notebooks\\\\crop_disease_model.h5'\n",
    "model = load_model(model_path)"
   ]
  },
  {
   "cell_type": "markdown",
   "metadata": {},
   "source": [
    "def predict_disease(image_path):\n",
    "    # Load and preprocess the image\n",
    "    img = load_img(image_path, target_size=(150, 150))  # Adjust size as needed\n",
    "    img_array = img_to_array(img)\n",
    "    img_array = np.expand_dims(img_array, axis=0)  # Add batch dimension\n",
    "    img_array /= 255.0  # "
   ]
  },
  {
   "cell_type": "markdown",
   "metadata": {},
   "source": [
    "   predictions = model.predict(img_array)\n",
    "    predicted_class_index = np.argmax(predictions[0])\n"
   ]
  },
  {
   "cell_type": "markdown",
   "metadata": {},
   "source": [
    "  class_names = ['Color Images', 'Grayscale Images', 'Individual Images', 'Segmented Images']\n",
    "    predicted_disease = class_names[predicted_class_index]\n",
    "\n",
    "    return predicted_disease"
   ]
  },
  {
   "cell_type": "markdown",
   "metadata": {},
   "source": [
    "if __name__ == \"__main__\":\n",
    "    image_path = 'C:\\\\Users\\\\PC\\\\Desktop\\\\mlearning\\\\backend\\\\dataset\\\\train\\\\Individual Images\\\\Potato\\\\Potato___Late_blight\\\\0b2bdc8e-90fd-4bb4-bedb-485502fe8a96___RS_LB 4906.JPG'\n",
    "    predicted_disease = predict_disease(image_path)\n",
    "    print(f\"Predicted Disease: {predicted_disease}\")\n"
   ]
  }
 ],
 "metadata": {
  "language_info": {
   "name": "python"
  }
 },
 "nbformat": 4,
 "nbformat_minor": 2
}
